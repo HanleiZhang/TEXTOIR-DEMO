{
 "metadata": {
  "language_info": {
   "codemirror_mode": {
    "name": "ipython",
    "version": 3
   },
   "file_extension": ".py",
   "mimetype": "text/x-python",
   "name": "python",
   "nbconvert_exporter": "python",
   "pygments_lexer": "ipython3",
   "version": "3.8.3-final"
  },
  "orig_nbformat": 2,
  "kernelspec": {
   "name": "python3",
   "display_name": "Python 3",
   "language": "python"
  }
 },
 "nbformat": 4,
 "nbformat_minor": 2,
 "cells": [
  {
   "cell_type": "code",
   "execution_count": 3,
   "metadata": {},
   "outputs": [],
   "source": [
    "import pandas as pd\n",
    "import numpy as np"
   ]
  },
  {
   "cell_type": "code",
   "execution_count": 4,
   "metadata": {},
   "outputs": [],
   "source": [
    "test_data = pd.read_csv('final.tsv',sep='\\t')\n",
    "known_labels = np.load('known_labels.npy')\n",
    "np_test = np.array(test_data)"
   ]
  },
  {
   "cell_type": "code",
   "execution_count": 8,
   "metadata": {
    "tags": []
   },
   "outputs": [
    {
     "output_type": "stream",
     "name": "stdout",
     "text": [
      "0.7447368421052631\n0.33577586206896554\n"
     ]
    }
   ],
   "source": [
    "# for ex in np_test[:100]:\n",
    "#     if ex[2] in known_labels:\n",
    "#         print('text:',ex[0], end=\"\")\n",
    "#         print(' label:',ex[1])\n",
    "predictions = np.array([x[1] for x in np_test])\n",
    "labels = np.array([x[2] for x in np_test])\n",
    "cnt1 = 0\n",
    "cnt2 = 0\n",
    "for x,y in zip(predictions, labels):\n",
    "    if y in known_labels:\n",
    "        if x == y:\n",
    "            cnt1 += 1\n",
    "        cnt2 += 1\n",
    "\n",
    "acc_ratio = cnt1 /cnt2\n",
    "print(acc_ratio)\n",
    "\n",
    "cnt3 = 0\n",
    "cnt4 = 0\n",
    "for x,y in zip(predictions, labels):\n",
    "    if y  not in known_labels:\n",
    "        if x == y:\n",
    "            cnt3 += 1\n",
    "        cnt4 += 1\n",
    "acc_ratio = cnt3 / cnt4\n",
    "print(acc_ratio)"
   ]
  },
  {
   "cell_type": "code",
   "execution_count": null,
   "metadata": {},
   "outputs": [],
   "source": []
  }
 ]
}