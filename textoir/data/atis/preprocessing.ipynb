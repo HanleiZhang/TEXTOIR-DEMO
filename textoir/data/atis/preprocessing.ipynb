{
 "cells": [
  {
   "cell_type": "code",
   "execution_count": 3,
   "metadata": {},
   "outputs": [],
   "source": [
    "import csv\n",
    "import random\n",
    "import numpy as np\n",
    "import os\n",
    "with open('ori_train.csv', \"r\", encoding=\"utf-8\") as f:\n",
    "    reader = csv.reader(f,delimiter = \",\")\n",
    "    texts = []\n",
    "    labels = []\n",
    "    for row in reader:\n",
    "        text = row[0]\n",
    "        label = row[1]\n",
    "        if text == 'text':\n",
    "            continue\n",
    "        texts.append(text)\n",
    "        labels.append(label)\n",
    "        \n",
    "with open('ori_train.tsv',\"w\", encoding=\"utf-8\") as f:\n",
    "    writer = csv.writer(f,delimiter = \"\\t\")\n",
    "    writer.writerow(['text','label'])\n",
    "    for text,label in zip(texts, labels):\n",
    "        writer.writerow([text,label])\n"
   ]
  },
  {
   "cell_type": "code",
   "execution_count": 4,
   "metadata": {},
   "outputs": [],
   "source": [
    "with open('ori_dev.csv', \"r\", encoding=\"utf-8\") as f:\n",
    "    reader = csv.reader(f,delimiter = \",\")\n",
    "    texts = []\n",
    "    labels = []\n",
    "    for row in reader:\n",
    "        text = row[0]\n",
    "        label = row[1]\n",
    "        if text == 'text':\n",
    "            continue\n",
    "        texts.append(text)\n",
    "        labels.append(label)\n",
    "\n",
    "with open('ori_dev.tsv',\"w\", encoding=\"utf-8\") as f:\n",
    "    writer = csv.writer(f,delimiter = \"\\t\")\n",
    "    writer.writerow(['text','label'])\n",
    "    for text,label in zip(texts, labels):\n",
    "        writer.writerow([text,label])"
   ]
  },
  {
   "cell_type": "code",
   "execution_count": 5,
   "metadata": {},
   "outputs": [],
   "source": [
    "with open('ori_test.csv', \"r\", encoding=\"utf-8\") as f:\n",
    "    reader = csv.reader(f,delimiter = \",\")\n",
    "    texts = []\n",
    "    labels = []\n",
    "    for row in reader:\n",
    "        text = row[0]\n",
    "        label = row[1]\n",
    "        if text == 'text':\n",
    "            continue\n",
    "        texts.append(text)\n",
    "        labels.append(label)\n",
    "\n",
    "with open('ori_test.tsv',\"w\", encoding=\"utf-8\") as f:\n",
    "    writer = csv.writer(f,delimiter = \"\\t\")\n",
    "    writer.writerow(['text','label'])\n",
    "    for text,label in zip(texts, labels):\n",
    "        writer.writerow([text,label])"
   ]
  },
  {
   "cell_type": "code",
   "execution_count": 3,
   "metadata": {
    "scrolled": true
   },
   "outputs": [
    {
     "name": "stdout",
     "output_type": "stream",
     "text": [
      "['atis_airline' 'atis_airfare' 'atis_distance' 'atis_abbreviation'\n",
      " 'atis_cheapest' 'atis_quantity' 'atis_city' 'atis_capacity'\n",
      " 'atis_flight_time' 'atis_meal' 'atis_ground_service' 'atis_restriction'\n",
      " 'atis_flight_no' 'atis_aircraft' 'atis_ground_fare' 'atis_flight'\n",
      " 'atis_airport']\n"
     ]
    }
   ],
   "source": [
    "import numpy as np\n",
    "a = np.load('labels.npy')\n",
    "print(a)\n",
    "a = list(a)\n"
   ]
  },
  {
   "cell_type": "code",
   "execution_count": 6,
   "metadata": {},
   "outputs": [
    {
     "name": "stdout",
     "output_type": "stream",
     "text": [
      "['atis_abbreviation' 'atis_aircraft' 'atis_airfare' 'atis_airline'\n",
      " 'atis_airport' 'atis_capacity' 'atis_city' 'atis_distance' 'atis_flight'\n",
      " 'atis_flight_time' 'atis_ground_fare' 'atis_ground_service'\n",
      " 'atis_quantity' 'atis_restriction']\n",
      "14\n"
     ]
    }
   ],
   "source": [
    "import csv\n",
    "import numpy as np\n",
    "with open('train.tsv') as f:\n",
    "    r = csv.reader(f, delimiter = \"\\t\")\n",
    "    texts = []\n",
    "    labels = []\n",
    "    for l in r:\n",
    "        text = l[0]\n",
    "        label = l[1]\n",
    "        if text == 'text' and label == 'label':\n",
    "            continue\n",
    "        labels.append(label)\n",
    "        texts.append(text)\n",
    "    uni = np.unique(np.array(labels))\n",
    "    print(uni)\n",
    "    \n",
    "print(len(uni))\n",
    "for e in uni:\n",
    "    if e not in a:\n",
    "        print(e)"
   ]
  },
  {
   "cell_type": "code",
   "execution_count": null,
   "metadata": {},
   "outputs": [],
   "source": []
  }
 ],
 "metadata": {
  "kernelspec": {
   "display_name": "Python 3",
   "language": "python",
   "name": "python3"
  },
  "language_info": {
   "codemirror_mode": {
    "name": "ipython",
    "version": 3
   },
   "file_extension": ".py",
   "mimetype": "text/x-python",
   "name": "python",
   "nbconvert_exporter": "python",
   "pygments_lexer": "ipython3",
   "version": "3.7.4"
  }
 },
 "nbformat": 4,
 "nbformat_minor": 2
}
